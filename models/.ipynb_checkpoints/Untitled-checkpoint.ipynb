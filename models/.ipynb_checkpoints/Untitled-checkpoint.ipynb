{
 "cells": [
  {
   "cell_type": "code",
   "execution_count": 2,
   "id": "0d454349",
   "metadata": {},
   "outputs": [],
   "source": [
    "using Distributions, LinearAlgebra, Plots, Random, LargeMessageCollider, Flux.Optimise\n",
    "Random.seed!(0);"
   ]
  },
  {
   "cell_type": "code",
   "execution_count": 3,
   "id": "ce58fd8d",
   "metadata": {},
   "outputs": [
    {
     "data": {
      "text/plain": [
       "CVI(Descent(0.01), 1000)"
      ]
     },
     "execution_count": 3,
     "metadata": {},
     "output_type": "execute_result"
    }
   ],
   "source": [
    "opt = Descent(0.01)\n",
    "cvi = CVI(opt, 1000)"
   ]
  },
  {
   "cell_type": "code",
   "execution_count": 4,
   "id": "c76db8f8",
   "metadata": {},
   "outputs": [
    {
     "data": {
      "text/plain": [
       "Normal{Float64}(μ=3.176543850230046, σ=0.3608977367063458)"
      ]
     },
     "execution_count": 4,
     "metadata": {},
     "output_type": "execute_result"
    }
   ],
   "source": [
    "approximateMarginal!(cvi,nothing,Gamma(50,0.1),Normal(1.2,0.6))"
   ]
  },
  {
   "cell_type": "code",
   "execution_count": 5,
   "id": "b14dba2c",
   "metadata": {},
   "outputs": [
    {
     "data": {
      "text/plain": [
       "Canonical(Normal{Float64}, nothing, nothing, [21.607918723226824, -2.5069389833907327], nothing, nothing)"
      ]
     },
     "execution_count": 5,
     "metadata": {},
     "output_type": "execute_result"
    }
   ],
   "source": [
    "ep!(cvi,nothing,Gamma(50,0.1),Normal(1.2,0.6))"
   ]
  },
  {
   "cell_type": "code",
   "execution_count": 6,
   "id": "8247a3e4",
   "metadata": {},
   "outputs": [
    {
     "data": {
      "text/plain": [
       "Normal{Float64}(μ=4.29587592600272, σ=0.44995155862843944)"
      ]
     },
     "execution_count": 6,
     "metadata": {},
     "output_type": "execute_result"
    }
   ],
   "source": [
    "convert(Normal,ep!(cvi,nothing,Gamma(50,0.1),Normal(1.2,0.6)))"
   ]
  },
  {
   "cell_type": "code",
   "execution_count": 14,
   "id": "97bc5466",
   "metadata": {},
   "outputs": [
    {
     "data": {
      "text/plain": [
       "FullNormal(\n",
       "dim: 2\n",
       "μ: [1.9710321543523404, 0.8217508433948993]\n",
       "Σ: [0.07358582891779702 -0.1131538990221736; -0.1131538990221736 0.2921327435906613]\n",
       ")\n"
      ]
     },
     "execution_count": 14,
     "metadata": {},
     "output_type": "execute_result"
    }
   ],
   "source": [
    "f(x) = x'*x\n",
    "approximateMarginal!(cvi,f,Gamma(50,0.1),MvNormal([1.2,0.6],[1.5 0.3;0.3 0.8]))"
   ]
  },
  {
   "cell_type": "code",
   "execution_count": 17,
   "id": "6f8dfd63",
   "metadata": {},
   "outputs": [
    {
     "data": {
      "text/plain": [
       "Canonical(MvNormal, nothing, nothing, [72.31048148688613, 38.95287572275341, -14.97659659460461, -7.56837726256002, -7.56837726256002, -5.022539990447187], nothing, nothing)"
      ]
     },
     "execution_count": 17,
     "metadata": {},
     "output_type": "execute_result"
    }
   ],
   "source": [
    "ep!(cvi,f,Gamma(50,0.1),MvNormal([1.2,0.6],[1.5 0.3;0.3 0.8]))"
   ]
  },
  {
   "cell_type": "code",
   "execution_count": 18,
   "id": "436d8c95",
   "metadata": {},
   "outputs": [
    {
     "data": {
      "text/plain": [
       "Gamma{Float64}(α=19.05285656158477, θ=0.18629359531995973)"
      ]
     },
     "execution_count": 18,
     "metadata": {},
     "output_type": "execute_result"
    }
   ],
   "source": [
    "approximateMarginal!(cvi,nothing,Normal(1.2,0.6),Gamma(50,0.1))"
   ]
  },
  {
   "cell_type": "code",
   "execution_count": 24,
   "id": "a4565315",
   "metadata": {},
   "outputs": [
    {
     "data": {
      "text/plain": [
       "Beta{Float64}(α=12.15372331681633, β=12.954164131155736)"
      ]
     },
     "execution_count": 24,
     "metadata": {},
     "output_type": "execute_result"
    }
   ],
   "source": [
    "cvi2 = CVI(Descent(0.000001),10)\n",
    "approximateMarginal!(cvi,nothing,Gamma(5,0.1), Beta(10.,10.))"
   ]
  },
  {
   "cell_type": "code",
   "execution_count": 25,
   "id": "f3cf2c6d",
   "metadata": {},
   "outputs": [
    {
     "data": {
      "text/plain": [
       "Beta{Float64}(α=18.056139193191203, β=14.631648857246828)"
      ]
     },
     "execution_count": 25,
     "metadata": {},
     "output_type": "execute_result"
    }
   ],
   "source": [
    "cvi2 = CVI(Descent(0.000001),10)\n",
    "f(x) = x^2\n",
    "approximateMarginal!(cvi,f,Gamma(5,0.1), Beta(10.,10.))"
   ]
  },
  {
   "cell_type": "code",
   "execution_count": null,
   "id": "14bb18e6",
   "metadata": {},
   "outputs": [],
   "source": []
  }
 ],
 "metadata": {
  "kernelspec": {
   "display_name": "Julia 1.8.0",
   "language": "julia",
   "name": "julia-1.8"
  },
  "language_info": {
   "file_extension": ".jl",
   "mimetype": "application/julia",
   "name": "julia",
   "version": "1.8.0"
  }
 },
 "nbformat": 4,
 "nbformat_minor": 5
}
